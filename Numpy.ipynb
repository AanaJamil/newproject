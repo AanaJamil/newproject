{
 "cells": [
  {
   "cell_type": "code",
   "execution_count": 1,
   "metadata": {},
   "outputs": [],
   "source": [
    "import numpy as np"
   ]
  },
  {
   "cell_type": "code",
   "execution_count": 2,
   "metadata": {},
   "outputs": [],
   "source": [
    "x = np.random.randn(1000000)"
   ]
  },
  {
   "cell_type": "code",
   "execution_count": 4,
   "metadata": {},
   "outputs": [],
   "source": [
    "x =np.array([12,13,9,10,6,7])"
   ]
  },
  {
   "cell_type": "code",
   "execution_count": 5,
   "metadata": {},
   "outputs": [
    {
     "data": {
      "text/plain": [
       "array([12, 13,  9, 10,  6,  7])"
      ]
     },
     "execution_count": 5,
     "metadata": {},
     "output_type": "execute_result"
    }
   ],
   "source": [
    "x"
   ]
  },
  {
   "cell_type": "code",
   "execution_count": 6,
   "metadata": {},
   "outputs": [
    {
     "data": {
      "text/plain": [
       "(6,)"
      ]
     },
     "execution_count": 6,
     "metadata": {},
     "output_type": "execute_result"
    }
   ],
   "source": [
    "np.shape(x)"
   ]
  },
  {
   "cell_type": "code",
   "execution_count": 15,
   "metadata": {},
   "outputs": [
    {
     "data": {
      "text/plain": [
       "array([[0., 0., 0., 0., 0., 0.],\n",
       "       [0., 0., 0., 0., 0., 0.],\n",
       "       [0., 0., 0., 0., 0., 0.],\n",
       "       [0., 0., 0., 0., 0., 0.],\n",
       "       [0., 0., 0., 0., 0., 0.],\n",
       "       [0., 0., 0., 0., 0., 0.]])"
      ]
     },
     "execution_count": 15,
     "metadata": {},
     "output_type": "execute_result"
    }
   ],
   "source": [
    "x = np.zeros([6,6])\n",
    "x"
   ]
  },
  {
   "cell_type": "code",
   "execution_count": 13,
   "metadata": {},
   "outputs": [
    {
     "data": {
      "text/plain": [
       "array([[1., 1., 1., 1., 1.],\n",
       "       [1., 1., 1., 1., 1.],\n",
       "       [1., 1., 1., 1., 1.],\n",
       "       [1., 1., 1., 1., 1.],\n",
       "       [1., 1., 1., 1., 1.]])"
      ]
     },
     "execution_count": 13,
     "metadata": {},
     "output_type": "execute_result"
    }
   ],
   "source": [
    "np.ones([5,5])"
   ]
  },
  {
   "cell_type": "code",
   "execution_count": 14,
   "metadata": {},
   "outputs": [
    {
     "data": {
      "text/plain": [
       "array([[1., 1., 1., 1., 1.],\n",
       "       [1., 1., 1., 1., 1.],\n",
       "       [1., 1., 1., 1., 1.],\n",
       "       [1., 1., 1., 1., 1.],\n",
       "       [1., 1., 1., 1., 1.]])"
      ]
     },
     "execution_count": 14,
     "metadata": {},
     "output_type": "execute_result"
    }
   ],
   "source": [
    "np.empty([5,5])"
   ]
  },
  {
   "cell_type": "code",
   "execution_count": 31,
   "metadata": {},
   "outputs": [
    {
     "data": {
      "text/plain": [
       "array([[0., 0., 0., 0., 0., 0.],\n",
       "       [0., 1., 1., 1., 1., 0.],\n",
       "       [0., 1., 1., 1., 1., 0.],\n",
       "       [0., 1., 1., 1., 1., 0.],\n",
       "       [0., 1., 1., 1., 1., 0.],\n",
       "       [0., 0., 0., 0., 0., 0.]])"
      ]
     },
     "execution_count": 31,
     "metadata": {},
     "output_type": "execute_result"
    }
   ],
   "source": [
    "x[1:-1,1:-1]\n",
    "x"
   ]
  },
  {
   "cell_type": "code",
   "execution_count": 34,
   "metadata": {},
   "outputs": [
    {
     "data": {
      "text/plain": [
       "array([[0., 0., 0., 0., 0., 0.],\n",
       "       [0., 1., 1., 1., 1., 0.],\n",
       "       [0., 1., 1., 1., 1., 0.],\n",
       "       [0., 1., 1., 1., 1., 0.],\n",
       "       [0., 1., 1., 1., 1., 0.],\n",
       "       [0., 0., 0., 0., 0., 0.]])"
      ]
     },
     "execution_count": 34,
     "metadata": {},
     "output_type": "execute_result"
    }
   ],
   "source": [
    "x[0:-2,0:-2]\n",
    "x"
   ]
  },
  {
   "cell_type": "code",
   "execution_count": 37,
   "metadata": {},
   "outputs": [
    {
     "data": {
      "text/plain": [
       "array([[-0.17205571,  0.28362385,  0.54816684, -1.82916829,  0.75441165,\n",
       "         0.57171754],\n",
       "       [-1.32145897,  0.53460955, -1.77201539,  0.00283018, -0.87085203,\n",
       "        -1.1508141 ],\n",
       "       [ 1.17348462,  0.20437831,  1.09146296, -0.04073173,  0.63366661,\n",
       "        -0.24467519],\n",
       "       [ 0.35263143, -2.37196253,  0.64196067,  0.10390767,  0.15390659,\n",
       "        -0.51691779],\n",
       "       [-2.05995476, -0.70945122, -0.20821952,  0.43732151, -1.45355372,\n",
       "         0.91800319],\n",
       "       [-0.6408203 , -1.32841524,  0.46947871,  0.64468078, -0.58564575,\n",
       "         1.20734052]])"
      ]
     },
     "execution_count": 37,
     "metadata": {},
     "output_type": "execute_result"
    }
   ],
   "source": [
    "x =np.random.randn(6,6)\n",
    "x"
   ]
  },
  {
   "cell_type": "code",
   "execution_count": 38,
   "metadata": {},
   "outputs": [
    {
     "data": {
      "text/plain": [
       "array([[ 1.96510966,  0.11207915, -0.18871655,  0.28371518,  0.31562265,\n",
       "         0.7264026 ],\n",
       "       [ 1.2763512 ,  0.76841324, -0.30329338,  1.66247169,  0.74863989,\n",
       "         1.02020572],\n",
       "       [-0.23086667, -0.41437013, -0.02362738, -2.03860358, -0.1071293 ,\n",
       "         0.54180299],\n",
       "       [-0.3491705 , -0.54545347, -1.02456577,  0.62972704,  2.14479118,\n",
       "        -0.0305521 ],\n",
       "       [ 0.80228451,  0.71285403,  0.03223892,  1.79614514, -0.79817298,\n",
       "         0.49636599],\n",
       "       [ 0.04686065,  0.47188804,  0.03423636, -0.34825965, -0.13320108,\n",
       "         0.58757664]])"
      ]
     },
     "execution_count": 38,
     "metadata": {},
     "output_type": "execute_result"
    }
   ],
   "source": [
    "y = np.random.randn(6,6)\n",
    "y"
   ]
  },
  {
   "cell_type": "code",
   "execution_count": 39,
   "metadata": {},
   "outputs": [
    {
     "data": {
      "text/plain": [
       "array([[ 1.79305395,  0.395703  ,  0.3594503 , -1.54545311,  1.0700343 ,\n",
       "         1.29812014],\n",
       "       [-0.04510778,  1.3030228 , -2.07530877,  1.66530186, -0.12221213,\n",
       "        -0.13060839],\n",
       "       [ 0.94261795, -0.20999182,  1.06783558, -2.0793353 ,  0.52653731,\n",
       "         0.2971278 ],\n",
       "       [ 0.00346093, -2.917416  , -0.38260509,  0.73363472,  2.29869777,\n",
       "        -0.54746989],\n",
       "       [-1.25767025,  0.00340281, -0.17598061,  2.23346666, -2.2517267 ,\n",
       "         1.41436918],\n",
       "       [-0.59395965, -0.8565272 ,  0.50371508,  0.29642113, -0.71884682,\n",
       "         1.79491716]])"
      ]
     },
     "execution_count": 39,
     "metadata": {},
     "output_type": "execute_result"
    }
   ],
   "source": [
    "x+y"
   ]
  },
  {
   "cell_type": "code",
   "execution_count": 40,
   "metadata": {},
   "outputs": [
    {
     "data": {
      "text/plain": [
       "array([[-2.13716538,  0.17154469,  0.73688339, -2.11288347,  0.438789  ,\n",
       "        -0.15468507],\n",
       "       [-2.59781017, -0.23380369, -1.46872201, -1.65964151, -1.61949192,\n",
       "        -2.17101982],\n",
       "       [ 1.4043513 ,  0.61874843,  1.11509034,  1.99787185,  0.74079591,\n",
       "        -0.78647817],\n",
       "       [ 0.70180193, -1.82650907,  1.66652644, -0.52581937, -1.9908846 ,\n",
       "        -0.48636569],\n",
       "       [-2.86223928, -1.42230525, -0.24045844, -1.35882363, -0.65538074,\n",
       "         0.4216372 ],\n",
       "       [-0.68768095, -1.80030327,  0.43524235,  0.99294042, -0.45244467,\n",
       "         0.61976388]])"
      ]
     },
     "execution_count": 40,
     "metadata": {},
     "output_type": "execute_result"
    }
   ],
   "source": [
    "x-y"
   ]
  },
  {
   "cell_type": "code",
   "execution_count": 44,
   "metadata": {},
   "outputs": [
    {
     "data": {
      "text/plain": [
       "array([[-0.34411142,  0.56724769,  1.09633369, -3.65833658,  1.5088233 ,\n",
       "         1.14343508],\n",
       "       [-2.64291795,  1.06921911, -3.54403078,  0.00566035, -1.74170405,\n",
       "        -2.30162821],\n",
       "       [ 2.34696925,  0.40875661,  2.18292593, -0.08146345,  1.26733321,\n",
       "        -0.48935037],\n",
       "       [ 0.70526286, -4.74392507,  1.28392135,  0.20781535,  0.30781317,\n",
       "        -1.03383558],\n",
       "       [-4.11990953, -1.41890244, -0.41643905,  0.87464303, -2.90710745,\n",
       "         1.83600638],\n",
       "       [-1.28164059, -2.65683047,  0.93895742,  1.28936155, -1.17129149,\n",
       "         2.41468104]])"
      ]
     },
     "execution_count": 44,
     "metadata": {},
     "output_type": "execute_result"
    }
   ],
   "source": [
    "2*x"
   ]
  },
  {
   "cell_type": "code",
   "execution_count": 45,
   "metadata": {},
   "outputs": [
    {
     "data": {
      "text/plain": [
       "array([[-0.08602786,  0.14181192,  0.27408342, -0.91458415,  0.37720583,\n",
       "         0.28585877],\n",
       "       [-0.66072949,  0.26730478, -0.8860077 ,  0.00141509, -0.43542601,\n",
       "        -0.57540705],\n",
       "       [ 0.58674231,  0.10218915,  0.54573148, -0.02036586,  0.3168333 ,\n",
       "        -0.12233759],\n",
       "       [ 0.17631572, -1.18598127,  0.32098034,  0.05195384,  0.07695329,\n",
       "        -0.25845889],\n",
       "       [-1.02997738, -0.35472561, -0.10410976,  0.21866076, -0.72677686,\n",
       "         0.4590016 ],\n",
       "       [-0.32041015, -0.66420762,  0.23473936,  0.32234039, -0.29282287,\n",
       "         0.60367026]])"
      ]
     },
     "execution_count": 45,
     "metadata": {},
     "output_type": "execute_result"
    }
   ],
   "source": [
    "x/2"
   ]
  },
  {
   "cell_type": "code",
   "execution_count": 46,
   "metadata": {},
   "outputs": [],
   "source": [
    "a =np.array([8,9,11,13,40])"
   ]
  },
  {
   "cell_type": "code",
   "execution_count": 47,
   "metadata": {},
   "outputs": [],
   "source": [
    "b = np.array([5,6,7,8,9])"
   ]
  },
  {
   "cell_type": "code",
   "execution_count": 50,
   "metadata": {},
   "outputs": [
    {
     "data": {
      "text/plain": [
       "array([ 8, 17, 28, 41, 81], dtype=int32)"
      ]
     },
     "execution_count": 50,
     "metadata": {},
     "output_type": "execute_result"
    }
   ],
   "source": [
    "np.cumsum(a)"
   ]
  },
  {
   "cell_type": "code",
   "execution_count": 52,
   "metadata": {},
   "outputs": [
    {
     "data": {
      "text/plain": [
       "array([     8,     72,    792,  10296, 411840], dtype=int32)"
      ]
     },
     "execution_count": 52,
     "metadata": {},
     "output_type": "execute_result"
    }
   ],
   "source": [
    "np.cumprod(a)"
   ]
  },
  {
   "cell_type": "code",
   "execution_count": 53,
   "metadata": {},
   "outputs": [
    {
     "data": {
      "text/plain": [
       "array([0, 1, 2, 3, 4, 5, 6, 7, 8, 9])"
      ]
     },
     "execution_count": 53,
     "metadata": {},
     "output_type": "execute_result"
    }
   ],
   "source": [
    "np.arange(10)"
   ]
  },
  {
   "cell_type": "code",
   "execution_count": 55,
   "metadata": {},
   "outputs": [
    {
     "data": {
      "text/plain": [
       "array([[ 1.16807729,  1.77681074,  1.85149494, -0.69074316, -4.5021857 ,\n",
       "         1.22764848],\n",
       "       [-2.25895016, -0.16842621,  0.058731  ,  2.9646799 ,  1.0274328 ,\n",
       "        -2.48312203],\n",
       "       [ 2.82603963,  0.19477027, -0.2554467 , -0.35463393, -0.1540892 ,\n",
       "         1.82429766],\n",
       "       [-2.41973284, -2.24002531,  0.51848945, -4.63008334, -1.56434992,\n",
       "        -2.04643056],\n",
       "       [-6.18132016, -1.53126518,  0.14534254, -3.99450968,  0.81688616,\n",
       "        -2.52841515],\n",
       "       [-3.70157479, -1.48652615, -0.1253231 , -4.41374397,  0.44227622,\n",
       "        -1.16737128]])"
      ]
     },
     "execution_count": 55,
     "metadata": {},
     "output_type": "execute_result"
    }
   ],
   "source": [
    "x @ y"
   ]
  },
  {
   "cell_type": "code",
   "execution_count": 57,
   "metadata": {},
   "outputs": [
    {
     "data": {
      "text/plain": [
       "(6, 6)"
      ]
     },
     "execution_count": 57,
     "metadata": {},
     "output_type": "execute_result"
    }
   ],
   "source": [
    "x.shape"
   ]
  },
  {
   "cell_type": "code",
   "execution_count": 60,
   "metadata": {},
   "outputs": [
    {
     "data": {
      "text/plain": [
       "array([[-0.17205571,  0.28362385,  0.54816684, -1.82916829,  0.75441165,\n",
       "         0.57171754, -1.32145897,  0.53460955, -1.77201539],\n",
       "       [ 0.00283018, -0.87085203, -1.1508141 ,  1.17348462,  0.20437831,\n",
       "         1.09146296, -0.04073173,  0.63366661, -0.24467519],\n",
       "       [ 0.35263143, -2.37196253,  0.64196067,  0.10390767,  0.15390659,\n",
       "        -0.51691779, -2.05995476, -0.70945122, -0.20821952],\n",
       "       [ 0.43732151, -1.45355372,  0.91800319, -0.6408203 , -1.32841524,\n",
       "         0.46947871,  0.64468078, -0.58564575,  1.20734052]])"
      ]
     },
     "execution_count": 60,
     "metadata": {},
     "output_type": "execute_result"
    }
   ],
   "source": [
    "x.reshape(4,9)"
   ]
  },
  {
   "cell_type": "code",
   "execution_count": null,
   "metadata": {},
   "outputs": [],
   "source": []
  }
 ],
 "metadata": {
  "kernelspec": {
   "display_name": "Python 3",
   "language": "python",
   "name": "python3"
  },
  "language_info": {
   "codemirror_mode": {
    "name": "ipython",
    "version": 3
   },
   "file_extension": ".py",
   "mimetype": "text/x-python",
   "name": "python",
   "nbconvert_exporter": "python",
   "pygments_lexer": "ipython3",
   "version": "3.7.3"
  }
 },
 "nbformat": 4,
 "nbformat_minor": 2
}
